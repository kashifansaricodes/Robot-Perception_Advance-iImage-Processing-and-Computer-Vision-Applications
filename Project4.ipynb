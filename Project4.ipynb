{
  "cells": [
    {
      "cell_type": "markdown",
      "source": [
        "# ENPM673 Perception for Autonomous Robots (Spring 2024) - Midterm Exam\n",
        "\n",
        "### Deadline: 16th March 7AM\n",
        "\n",
        "Rohan Maan, Jay Prajapati, Samer Charifa, Tommy Chang"
      ],
      "metadata": {
        "id": "2G4QCulAFBB5"
      }
    },
    {
      "cell_type": "markdown",
      "source": [
        "## Submission guidelines\n",
        "\n",
        "-\tThe midterm exam is to be done and submitted individually.\n",
        "-\tWrite the solution to **all the problems in one Google Colab File. (Handwritten answers will not be allowed)**\n",
        "-\tYour submission on ELMS/Canvas should be the following:\n",
        "    a. Google Colab (.ipynb) file\n",
        "    b. Google Colab (.pdf) file (Convert the same .ipynb file to a .pdf file)\n",
        "    following the naming convention YourDirectoryID_midterm.\n",
        "-\tPoints will be deducted if you don’t follow the submission guidelines.\n",
        "-\tSubmit all files in one attempt.\n",
        "-\tProvide detailed explanations for each step using text cells in Google Colab.\n",
        "-\tEnsure the code is well-formatted for readability.\n",
        "-\tComment on each section (preferably every 2 lines) of the code to explain its purpose and functionality.\n",
        "-\tInclude relevant output images within the text cells where required.\n",
        "-\tNote that the use of ChatGPT (or any other generative AI websites) is not allowed.\n",
        "- You are free to use any in-built OpenCv functions **except for PCA (In Question-3)**.\n"
      ],
      "metadata": {
        "id": "Wx-4X6XhFTFx"
      }
    },
    {
      "cell_type": "markdown",
      "source": [
        "## How to use this file\n",
        "\n",
        "- Links to all the input data have been given in the text cells.\n",
        "- Add this .ipynb file to your working directory on google drive.\n",
        "- Add the given input files to your working directory on google drive.\n",
        "- Make sure you are using Google Colab and not any other IDE.\n",
        "- Placeholders to write the answers have been given in this file.\n",
        "- Do not change the structure of the questions.\n",
        "- You may add extra code cells or text cells for any particular question.\n",
        "- Make sure that the extra cell is added under the right question."
      ],
      "metadata": {
        "id": "ojbk8mVvQUfU"
      }
    },
    {
      "cell_type": "markdown",
      "source": [
        "## Enter Student Details Here\n",
        "\n",
        "|Name|your_name|\n",
        "|---|---|\n",
        "|UID|your_uid|\n",
        "|Email|your_email|"
      ],
      "metadata": {
        "id": "DIddwOtUF3_Z"
      }
    },
    {
      "cell_type": "markdown",
      "source": [
        "# Set path to the working directory\n"
      ],
      "metadata": {
        "id": "O2CtbldtHFbr"
      }
    },
    {
      "cell_type": "code",
      "source": [
        "from google.colab import drive\n",
        "drive.mount('/content/drive/', force_remount=True)"
      ],
      "metadata": {
        "id": "IYA-O22WHA07"
      },
      "execution_count": null,
      "outputs": []
    },
    {
      "cell_type": "code",
      "source": [
        "path_to_folder = \"enter your path here\"\n",
        "%cd /content/drive/My\\ Drive/{path_to_folder}"
      ],
      "metadata": {
        "id": "X1gFvqwQHEXQ"
      },
      "execution_count": null,
      "outputs": []
    },
    {
      "cell_type": "markdown",
      "source": [
        "# Import Libraries"
      ],
      "metadata": {
        "id": "zm4oVU6WFtW7"
      }
    },
    {
      "cell_type": "code",
      "execution_count": null,
      "metadata": {
        "id": "6Im8mfFbydgZ"
      },
      "outputs": [],
      "source": [
        "# Import all your libraries here ....\n",
        "\n",
        "import cv2\n",
        "import numpy as np\n",
        "import random\n",
        "import matplotlib.pyplot as plt\n",
        "import csv\n",
        "import plotly.graph_objects as go\n",
        "import pandas as pd"
      ]
    },
    {
      "cell_type": "markdown",
      "metadata": {
        "id": "h9iitQsO6XF5"
      },
      "source": [
        "# Problem 1 (20 Points)\n",
        "\n",
        "Link to input image: https://drive.google.com/file/d/1X0xir8CrOoKsNXxvZnLVAJWKztpMuUhV/view?usp=drive_link\n",
        "\n",
        "#### Part 1: Write code and describe the steps to perform histogram equalization of the given color image.  Hint: First convert to a color space that separates the intensity from the color channels (eg. LAB or LUV color spaces work the best).  Your result should look like the below:\n",
        "\n",
        "Link to the output of part-1: https://drive.google.com/file/d/1nIhoE0PyCdFE3LfAwGcUqUt_GaQ2NoG-/view?usp=sharing\n"
      ]
    },
    {
      "cell_type": "code",
      "source": [
        "# write code for problem 1 part 1 here ....."
      ],
      "metadata": {
        "id": "3I2rNqPuZaEP"
      },
      "execution_count": null,
      "outputs": []
    },
    {
      "cell_type": "markdown",
      "source": [
        "#### Part 2: Another way to enhance a dark image is to perform gamma correction.   For each intensity pixel, replace it with the new intensity = 255*((intensity/255)^(1/2.2)). Write code to perform gamma correction.  Your result should look like below:\n",
        "\n",
        "Link to the output of part-2: https://drive.google.com/file/d/1rgo7Kl8qK7Byh5QZsIb4CrfdBzY51Aco/view?usp=sharing\n"
      ],
      "metadata": {
        "id": "6FJk0rSNpZSY"
      }
    },
    {
      "cell_type": "code",
      "execution_count": null,
      "metadata": {
        "id": "6Zw-62Bm5sDQ"
      },
      "outputs": [],
      "source": [
        "# write code for problem 1 part 2 here ....."
      ]
    },
    {
      "cell_type": "markdown",
      "metadata": {
        "id": "rB9RYagD0tGj"
      },
      "source": [
        "# Problem 2 (15 Points)\n",
        "\n",
        "#### 1. For an image that is n by n and assuming that we have a random kernel call it H, where H is m by m matrix, what is the big O notation when performing convolution (how many multiplications are needed, in terms of n)?\n",
        "\n",
        "#### 2. Describe the meaning of “separable” kernel? Redo the previous question knowing that the H kernel is separable?\n",
        "\n",
        "#### 3. Apply the principle of separability to the following kernel to separate it into two kernels.\n",
        "\n",
        "\n",
        "Kernel\n",
        "\n",
        "<img src=\"https://drive.google.com/uc?id=1MMCS5erDiy2Pk_ytuyI_GSI8FdjGRUib\" width=\"300\" height=\"200\" />"
      ]
    },
    {
      "cell_type": "markdown",
      "source": [
        "#### Problem-2 (1)\n",
        "\n",
        "write the answer here"
      ],
      "metadata": {
        "id": "cuobYhI3K_2W"
      }
    },
    {
      "cell_type": "markdown",
      "source": [
        "#### Problem-2 (2)\n",
        "\n",
        "write the answer here"
      ],
      "metadata": {
        "id": "oi-K6CeLK_sn"
      }
    },
    {
      "cell_type": "markdown",
      "source": [
        "#### Problem-2 (3)\n",
        "\n",
        "write the answer here"
      ],
      "metadata": {
        "id": "ZgwFP0u9LS0v"
      }
    },
    {
      "cell_type": "markdown",
      "metadata": {
        "id": "EzoH9RNQ49oF"
      },
      "source": [
        "# Problem 3 (20 Points)\n",
        "\n",
        "Link to the csv file: https://drive.google.com/file/d/1LGG32bpU0sTIp-lOxOXCZJELGoZqVaZk/view?usp=sharing\n",
        "\n",
        "#### Given x, y, z coordinates of n number of data points(problem3_points.csv). Consider matrix A where matrix A represents the coordinates of the n points shown in the figure below. Let’s say we want to fit these data points onto an ellipse.\n",
        "\n",
        "#### 1. Describe the steps to find the major and minor axis of this ellipse along with their prospective length.\n",
        "\n",
        "#### 2. Similarly, given the data that represents a flat ground in front of the robot in 3D, try to extract the equation of the surface that describe the ground."
      ]
    },
    {
      "cell_type": "markdown",
      "source": [
        "#### Problem-3 (1)\n",
        "\n",
        "write the text answer here ..."
      ],
      "metadata": {
        "id": "XhTfqFofLtuO"
      }
    },
    {
      "cell_type": "markdown",
      "source": [
        "#### Problem-3 (2)"
      ],
      "metadata": {
        "id": "3bK_H-R-PEql"
      }
    },
    {
      "cell_type": "code",
      "source": [
        "# write code for problem-3 here ..."
      ],
      "metadata": {
        "id": "QBFnkUQxUB7G"
      },
      "execution_count": null,
      "outputs": []
    },
    {
      "cell_type": "markdown",
      "metadata": {
        "id": "3dBhpc6AzYS9"
      },
      "source": [
        "# Problem 4 (30 Points)\n",
        "\n",
        "Link to the input image: https://drive.google.com/file/d/1VeZyrPIwyg7sqi_I6N5zBUJP9UHkyDEb/view?usp=sharing\n",
        "\n",
        "#### Given the photo of a train track, describe the process to find the mean distance in pixels between the train tracks for every row of the image where train tracks appear. This question contains two parts:\n",
        "\n",
        "#### 1. Design Pipeline and explain the requirement of each step\n",
        "#### 2. Write code to implement the pipeline"
      ]
    },
    {
      "cell_type": "markdown",
      "metadata": {
        "id": "RQxK4nu4244s"
      },
      "source": [
        "#### Problem-4 (1)\n",
        "\n",
        "Edit this text cell to enter pipeline details\n",
        "\n",
        "1. ...\n",
        "2. ..."
      ]
    },
    {
      "cell_type": "markdown",
      "metadata": {
        "id": "1nRd6CrM27ac"
      },
      "source": [
        "#### Problem-4 (2)"
      ]
    },
    {
      "cell_type": "code",
      "execution_count": null,
      "metadata": {
        "id": "881o2jFXyVE2"
      },
      "outputs": [],
      "source": [
        "# write code for problem-4 here ..."
      ]
    },
    {
      "cell_type": "markdown",
      "metadata": {
        "id": "9_4124Gm3eIf"
      },
      "source": [
        "# Problem 5 (15 Points)\n",
        "\n",
        "#### Let’s say you want to design a system that will create a top view of the surrounding around the car, see the image below for referene. Do the following,\n",
        "\n",
        "(1) Describe and point the location of the sensors on the car in the given picture. Also, show the field of view of the sensors.\n",
        "\n",
        "(2) Write the pipeline that will take input from these sensors and output a top-view image similar to the one shown below.\n",
        "\n",
        "Note: Explain the answer in detail and provide necessary justifications for the steps you use in the pipeline.\n",
        "\n",
        "<img src=\"https://drive.google.com/uc?id=1USIA11QzqbXxzpkkqOX2qedu3bvhGlDW\" width=\"150\" height=\"250\" />"
      ]
    },
    {
      "cell_type": "markdown",
      "metadata": {
        "id": "EVucR7pi4E_Q"
      },
      "source": [
        "Write the answer to the problem-5 here ...\n",
        "\n",
        "\n"
      ]
    }
  ],
  "metadata": {
    "colab": {
      "provenance": []
    },
    "kernelspec": {
      "display_name": "Python 3",
      "name": "python3"
    },
    "language_info": {
      "name": "python"
    }
  },
  "nbformat": 4,
  "nbformat_minor": 0
}